{
 "cells": [
  {
   "cell_type": "markdown",
   "id": "11b2f563-8885-4178-9a7f-eeb0cfecadf3",
   "metadata": {},
   "source": [
    "# Multi Layer Perceptron"
   ]
  },
  {
   "cell_type": "markdown",
   "id": "3557f598-f2ff-48c5-a512-219e97e29ed9",
   "metadata": {},
   "source": [
    "Các hệ số thành phần của mô hình:\n",
    "- $\\mathbf{W}^{(l)} \\in \\mathbb{R}^{d^{(l - 1)} \\times d^{(l)}}$: ma trận trong số tại layer thứ  $l$  ($l = 1, 2,..., L$), coi layer input là layer thứ 0. \n",
    "  Trong đó: \n",
    "    + $w_{ij}$ là từ node thứ $i$ của laryer $l - 1$ đến node thứ $j$ của layer $l$.\n",
    "    + $d^{(l)}$: số node của layer thứ $l$ không tính node bias.\n",
    "- $\\mathbf{b}^{(l)} \\in \\mathbb{R}^{d(l)}$: biases của layer thứ l\n",
    "- $\\mathbf{a}^{(l)} \\in \\mathbb{R}^{d(l)}$: output của layer thứ l\n",
    "- $f()$: là một (nonlinear) activation function\n",
    "\n",
    "<img src=\"img/mlp_notation.png\" alt=\"drawing\" width='50%'/>"
   ]
  },
  {
   "cell_type": "markdown",
   "id": "290ec060-73b8-4c2b-bebe-fa89bb96aef3",
   "metadata": {},
   "source": [
    "## Backpropagation \n",
    "Đây là phương pháp sử dụng để tối ưu MLP sử dụng gradient descent.   \n",
    "Gồm 2 phần:\n",
    "- Forward propagation:\n",
    "    + Dữ liệu truyền từ input layer -> output layer -> Tính các giá trị $a, z,..$\n",
    "    + Tính sau số đầu ra thực tế\n",
    "\n",
    "- Backpropagation:\n",
    "    + Được sử dụng để điều chỉnh các trọng số trong mạng\n",
    "    + Tính gradient ngược từ lớp cuối đến lớp đầu tiên"
   ]
  },
  {
   "cell_type": "markdown",
   "id": "a94f4a05-6033-42d7-b7b8-ed4ba2481ceb",
   "metadata": {},
   "source": [
    "1. Forward propagation  \n",
    "- Cần tính predict output $\\hat{\\mathbf{y}}$ cho mỗi input  \n",
    "$$\n",
    "\\begin{align*}\n",
    "    \\mathbf{a}^{(0)} &= \\mathbf{x}, \\\\\n",
    "    z_j^{(l)} &= \\mathbf{w}_j^{(l) T} \\mathbf{a}^{(l - 1)} + b_j^{(l)}, \\\\\n",
    "    \\mathbf{z}^{(l)} &= \\mathbf{W}^{(l)} \\mathbf{a}^{(l - 1)} + \\mathbf{b}^{(l)}, \\\\\n",
    "    \\mathbf{a}^{(l)} &= f(\\mathbf{z}^{(l)}), \\\\\n",
    "    \\hat{\\mathbf{y}} &= \\mathbf{a}^{(L)}\n",
    "\\end{align*}\n",
    "$$\n",
    "\n",
    "2. Backpropagation\n",
    "\n",
    "Để áp dụng GD cần tính được đạo hàm của $\\mathbf{W}^{(l)}, \\mathbf{b}^{(l)}$.  \n",
    "Gọi $J(\\mathbf{W, b, X, Y})$ là hàm mất mát. Cần tính: $\\frac{\\partial J}{\\partial \\mathbf{W}^{(l)}}$ và $\\frac{\\partial J}{\\partial \\mathbf{b}^{(l)}}$  \n",
    "\n",
    "Khi đó các giá trị đạo hàm là:  \n",
    "$$\n",
    "\\begin{align*}\n",
    "\\frac{\\partial J}{\\partial w_{ij}^{(l)}} &= \\frac{\\partial J}{\\partial z_j^{(l)}} \\frac{\\partial z_j^{(l)}}{\\partial w_{ij}^{(l)}} \\\\\n",
    "&= e_j ^ {(l)} a_i^{(l-1)}\n",
    "\\end{align*}\n",
    "$$ \n",
    "với \n",
    "$$ \n",
    "\\begin{align*}\n",
    "e_j ^ {(l)} &=  \\frac{\\partial J}{\\partial z_j^{(l)}} \\\\\n",
    "            &= \\frac{\\partial J}{\\partial a_j^{(l)}} \\frac{\\partial a_j^{(l)}}{\\partial z_j^{(l)}} \\\\\n",
    "            &= (\\sum_{k = 1}^{d^{(l + 1)}} \\frac{\\partial J}{\\partial z_k^{(l + 1)}} \\frac{\\partial z_k^{(l + 1)}}{\\partial a_j^{(l)}}) f'(z_j ^{(l)}) \\\\\n",
    "            &= (\\sum_{k = 1}^{d^{(l + 1)}} e_j^{(l + 1)} w_{jk}^{(l + 1)}) f'(z_j^{(l)}) \\\\\n",
    "            &= (\\mathbf{w}_{j:}^{(l + 1)} \\mathbf{e}^{(l + 1)}) f'(z_j^{(l)}) \\ \\  \\ \\ \\ \\ \\ l = L-1, L-2, ... 1\n",
    "\\end{align*}\n",
    "$$\n",
    "Trong đó: $\\mathbf{w}_{j:}$ là lấy hàng j của ma trận $W$   \n",
    "Tương tự có:  $$ \\frac{\\partial J}{\\partial b_j ^{(l)}} = e_j^{(l)}$$\n",
    "Tại output layer :  \n",
    "$$\n",
    "\\begin{align*}\n",
    "\\frac{\\partial J}{\\partial w_{ij}^{(L)}} &= \\frac{\\partial J}{\\partial z_j^{(L)}} \\frac{\\partial z_j^{(L)}}{\\partial w_{ij}^{(L)}}\\\\\n",
    "&= e_j ^ {(L)} a_i^{(L-1)} \\\\\n",
    " \\frac{\\partial J}{\\partial b_j ^{(L)}} &= e_j^{(L)} \\\\\n",
    " \\mathbf{e}^{(L)} &= \\frac{\\partial J}{\\partial \\mathbf{z}^{(L)}}\n",
    "\\end{align*}\n",
    "$$\n"
   ]
  },
  {
   "cell_type": "markdown",
   "id": "0ef07d34-a765-4603-8943-5168e38065fa",
   "metadata": {},
   "source": [
    "## Ví dụ"
   ]
  },
  {
   "cell_type": "markdown",
   "id": "0d5a0cc8-e5d6-4f94-8c71-fbda13ff5233",
   "metadata": {},
   "source": [
    "Ví dụ sử dụng activation function J là max(x, 0), 1 lớp ẩn  \n",
    "Sử dụng hàm softmax() để tính xác suất dự đoán\n",
    "=> tính các đạo hàm cần thiết"
   ]
  },
  {
   "cell_type": "markdown",
   "id": "a483efe1-7253-4e14-a139-d80001498347",
   "metadata": {},
   "source": [
    "**feedforwark**\n",
    "$$\n",
    "\\begin{align*}\n",
    "\\mathbf{Z}^{(1)} &= \\mathbf{W}^{(1)T} \\mathbf{X} \\\\\n",
    "\\mathbf{A}^{(1)} &= \\max(\\mathbf{Z}^{(1)}, 0) \\\\\n",
    "\\mathbf{Z}^{(2)} &= \\mathbf{W}^{(2)T} \\mathbf{A}^{(1)} \\\\\n",
    "\\mathbf{ \\hat Y} &= \\mathbf{A}^{(2)} = \\text{softmax}(\\mathbf{Z}^{(2)})\n",
    "\\end{align*}\n",
    "$$\n",
    "\n",
    "loss function $J = -\\frac{1}{N} \\sum_{i = 1}^{N} \\sum_{j = 1}^{C} y_{ji} \\log{\\hat{y}_{ji}}$"
   ]
  },
  {
   "cell_type": "markdown",
   "id": "7836819e-bf0a-4239-b806-bea60ed5865b",
   "metadata": {},
   "source": [
    "**Backpropagation**\n",
    "$$\n",
    "\\begin{align*}\n",
    "    \\mathbf{E}^{(2)} &= \\frac{\\partial \\mathbf{J}}{\\partial \\mathbf{Z}^{(2)}} = \\frac{1}{N} (\\hat{\\mathbf{Y}} - \\mathbf{Y})\n",
    "\\end{align*}\n",
    "$$"
   ]
  },
  {
   "cell_type": "code",
   "execution_count": 32,
   "id": "5c8836f1-6219-41c2-a252-5bdcbc6b41c7",
   "metadata": {},
   "outputs": [],
   "source": [
    "import numpy as np\n",
    "import matplotlib.pyplot as plt\n",
    "import math"
   ]
  },
  {
   "cell_type": "code",
   "execution_count": 33,
   "id": "34872691-a265-44ce-9d9d-7b6e73caa2f0",
   "metadata": {},
   "outputs": [],
   "source": [
    "def softmax(z):\n",
    "    e_z = np.exp(z - np.max(z, axis=0, keepdims=True)) #Trừ đi max để tránh tràn hàm exp \n",
    "    return e_z/e_z.sum(axis = 0)  # vector"
   ]
  },
  {
   "cell_type": "code",
   "execution_count": 34,
   "id": "64b17652-fd44-4635-be60-8f899fd78fd0",
   "metadata": {},
   "outputs": [],
   "source": [
    "# one-hot\n",
    "from scipy import sparse\n",
    "def convert_labels(y, C = 3):\n",
    "    Y = sparse.coo_matrix((np.ones_like(y),\n",
    "        (y, np.arange(len(y)))), shape = (C, len(y))).toarray()\n",
    "    return Y"
   ]
  },
  {
   "cell_type": "code",
   "execution_count": 35,
   "id": "ede7f6c7-7b7f-4537-aa6a-8ad273d049f4",
   "metadata": {},
   "outputs": [],
   "source": [
    "# cost or loss function\n",
    "def cost(Y, Yhat):\n",
    "    return -np.sum(Y*np.log(Yhat))/Y.shape[1]"
   ]
  },
  {
   "cell_type": "code",
   "execution_count": 46,
   "id": "331f644f-033c-4561-9492-f081bebb44b4",
   "metadata": {},
   "outputs": [],
   "source": [
    "#Sử dụng phương pháp Stochastic Gradient Descent\n",
    "\n",
    "class MLP_SGD:\n",
    "    def __init__(self, input_dim, hidden_dim, output_dim):\n",
    "        self.W1 = np.random.randn( input_dim, hidden_dim) * 0.01\n",
    "        self.b1 = np.zeros((hidden_dim, 1))\n",
    "        \n",
    "        self.W2 = np.random.randn(hidden_dim, output_dim) * 0.01\n",
    "        self.b2 = np.zeros((output_dim, 1))\n",
    "        \n",
    "    def forward(self, X):\n",
    "        self.Z1 = np.dot(self.W1.T, X) + self.b1\n",
    "        self.A1 = np.maximum(self.Z1, 0) # activation ReLU\n",
    "\n",
    "        self.Z2 = np.dot(self.W2.T, self.A1) + self.b2\n",
    "        self.A2 = softmax(self.Z2)\n",
    "        return self.A2\n",
    "\n",
    "    def backward(self,x, Yhat, y_true, learning_rate):\n",
    "        E2 = Yhat - y_true\n",
    "        dW2 = np.dot(self.A1, E2.T)\n",
    "        db2 = np.sum(E2, axis=1, keepdims=True)\n",
    "        E1 = np.dot(self.W2, E2)\n",
    "        E1[self.Z1 <= 0] = 0  # gradient of ReLU\n",
    "        dW1 = np.dot(x, E1.T)\n",
    "        db1 = np.sum(E1, axis=1, keepdims=True)\n",
    "    \n",
    "        self.W2 -= learning_rate * dW2\n",
    "        self.b2 -= learning_rate * db2\n",
    "        self.W1 -= learning_rate * dW1\n",
    "        self.b1 -= learning_rate * db1\n",
    "\n",
    "    def train(self, X, y, learning_rate, epochs):\n",
    "        m = X.shape[1]\n",
    "        dim = X.shape[0]\n",
    "        num_class = len(np.unique(y))\n",
    "        Y = convert_labels(y, num_class)\n",
    "        for epoch in range(epochs):\n",
    "            # Sử dụng SGD\n",
    "            total_loss = 0\n",
    "            mix_id = np.random.permutation(m)\n",
    "            for i in mix_id:\n",
    "                X_sample = X[:, i].reshape(dim, 1)\n",
    "                y_sample = Y[:, i].reshape(num_class, 1)\n",
    "\n",
    "                y_pred = self.forward(X_sample)\n",
    "                total_loss += cost(y_sample, y_pred)\n",
    "                self.backward(X_sample, y_pred, y_sample, learning_rate)\n",
    "            \n",
    "            if epoch % 100 == 0:\n",
    "                print(f'Epoch {epoch}: Loss {total_loss/m}')\n",
    "            if(total_loss / m < 0.02):\n",
    "                return\n",
    "                \n",
    "    def accuracy(self, X, y):\n",
    "        Z1 = np.dot(self.W1.T, X) + self.b1\n",
    "        A1 = np.maximum(Z1, 0)\n",
    "        Z2 = np.dot(self.W2.T, A1) + self.b2\n",
    "        predicted_class = np.argmax(Z2, axis=0)\n",
    "        print('training accuracy: %.2f %%' % (100*np.mean(predicted_class == y)))"
   ]
  },
  {
   "cell_type": "code",
   "execution_count": 37,
   "id": "7fe28468-18e6-48f6-aec2-2c4eac2cbf50",
   "metadata": {},
   "outputs": [],
   "source": [
    "N = 200\n",
    "num_class = 3\n",
    "dim = 2 # số chiều dữ liệu\n",
    "X = np.zeros((dim, N * num_class))\n",
    "y = np.zeros(N*num_class, dtype='uint8')\n",
    "\n",
    "for j in range(num_class):\n",
    "  ix = range(N*j,N*(j+1))\n",
    "  r = np.linspace(0.0,1,N)\n",
    "  t = np.linspace(j*4,(j+1)*4,N) + np.random.randn(N) * 0.2\n",
    "  X[:,ix] = np.c_[r*np.sin(t), r*np.cos(t)].T\n",
    "  y[ix] = j"
   ]
  },
  {
   "cell_type": "code",
   "execution_count": 38,
   "id": "19f1e565",
   "metadata": {},
   "outputs": [
    {
     "data": {
      "text/plain": [
       "(2, 600)"
      ]
     },
     "execution_count": 38,
     "metadata": {},
     "output_type": "execute_result"
    }
   ],
   "source": [
    "X.shape"
   ]
  },
  {
   "cell_type": "code",
   "execution_count": 39,
   "id": "e34a49a7",
   "metadata": {},
   "outputs": [
    {
     "data": {
      "text/plain": [
       "[<matplotlib.lines.Line2D at 0x2ac7d2f0e50>]"
      ]
     },
     "execution_count": 39,
     "metadata": {},
     "output_type": "execute_result"
    },
    {
     "data": {
      "image/png": "[encoded data removed]",
      "text/plain": [
       "<Figure size 640x480 with 1 Axes>"
      ]
     },
     "metadata": {},
     "output_type": "display_data"
    }
   ],
   "source": [
    "plt.plot(X[0, :N], X[1, :N], 'bs', markersize = 7)\n",
    "plt.plot(X[0, N:2*N], X[1, N:2*N], 'ro', markersize = 7)\n",
    "plt.plot(X[0, 2*N:], X[1, 2*N:], 'g^', markersize = 7)"
   ]
  },
  {
   "cell_type": "code",
   "execution_count": 47,
   "id": "ee7eaecb-af03-42da-a738-929550a7c405",
   "metadata": {},
   "outputs": [
    {
     "name": "stdout",
     "output_type": "stream",
     "text": [
      "Epoch 0: Loss 1.10021541999481\n",
      "Epoch 100: Loss 0.2125374837736854\n",
      "Epoch 200: Loss 0.09618392333596082\n",
      "Epoch 300: Loss 0.058533352959175305\n",
      "Epoch 400: Loss 0.042635214699039706\n",
      "Epoch 500: Loss 0.03555541107436395\n",
      "Epoch 600: Loss 0.03222484524142224\n",
      "Epoch 700: Loss 0.029382339898476655\n",
      "Epoch 800: Loss 0.023320240600482302\n",
      "Epoch 900: Loss 0.023124963515695183\n"
     ]
    }
   ],
   "source": [
    "input_dim = dim\n",
    "hidden_dim = 100 # số hidden units \n",
    "output_dim = num_class\n",
    "learning_rate = 0.01\n",
    "epochs = 10000\n",
    "\n",
    "model = MLP_SGD(input_dim, hidden_dim, output_dim)\n",
    "model.train(X, y, learning_rate, epochs)"
   ]
  },
  {
   "cell_type": "code",
   "execution_count": 48,
   "id": "d91ff1b0-a5e2-4b6d-9ec8-d728305985d8",
   "metadata": {},
   "outputs": [
    {
     "name": "stdout",
     "output_type": "stream",
     "text": [
      "training accuracy: 99.17 %\n"
     ]
    }
   ],
   "source": [
    "model.accuracy(X, y)"
   ]
  }
 ],
 "metadata": {
  "kernelspec": {
   "display_name": "Python 3 (ipykernel)",
   "language": "python",
   "name": "python3"
  },
  "language_info": {
   "codemirror_mode": {
    "name": "ipython",
    "version": 3
   },
   "file_extension": ".py",
   "mimetype": "text/x-python",
   "name": "python",
   "nbconvert_exporter": "python",
   "pygments_lexer": "ipython3",
   "version": "3.11.7"
  }
 },
 "nbformat": 4,
 "nbformat_minor": 5
}
