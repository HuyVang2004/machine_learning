{
 "cells": [
  {
   "cell_type": "markdown",
   "id": "2cd6d04f-b547-4aae-b5fd-5bffb1bbf59d",
   "metadata": {},
   "source": [
    "# Bài toán Perceptron\n",
    "Bài toán Perceptron được phát biểu như sau: Cho hai class được gán nhãn, hãy tìm một đường phẳng sao cho toàn bộ các điểm thuộc class 1 nằm về 1 phía, toàn bộ các điểm thuộc class 2 nằm về phía còn lại của đường phẳng đó. Với giả định rằng tồn tại một đường phẳng như thế."
   ]
  },
  {
   "cell_type": "markdown",
   "id": "f5d41307-1c8f-40a2-98a7-b4385a2d6a70",
   "metadata": {},
   "source": [
    "# Thuật toán Perceptron\n",
    "- Tập dữ liệu $\\mathbf{X} = \\mathbf[x_1, x_2, ..., x_N]$ $\\in \\mathbb{R}^{d \\times N}$ (trong đó các điểm dữ liệu là các vector cột) \\\n",
    "- Label $\\mathbf{y} = [y_1, ..., y_N]$ trong đó $y_i = 1$ nếu $x_i$ thuộc class 1 và $y_i = -1$ nếu $x_i$ thuộc class 2 \\\n",
    "- Tại mỗi thời điểm giả sử tìm được boudary có dạng:\n",
    "$$\\begin{align*}\n",
    "    \\mathbf{f_w(x)} &= w_1x_1 + w_2x_2 + ... + w_dx_d + w_0 \\\\\n",
    "                    &= \\mathbf{w^T} \\bar{\\mathbf{x}} = 0\n",
    "\\end{align*}$$\n",
    "Trong đó $\\mathbf{\\bar{x}}$ là ma trận thu được bằng cách theo vector 1 vào dữ liệu $\\mathbf{X}$ \\\n",
    "- Nhận xét các điểm nằm về cùng 1 phía của boudary sẽ cùng dấu => Nếu $\\mathbf{w}$ là nghiệm của bài toán Perceptron thì với mỗi dữ liệu $\\mathbf{x}$ chưa được gán nhãn, ta có thể xác định class của nó như sau: $label(\\mathbf{x}) = 1$ if $\\mathbf{w^T x} \\geq 0$ , otherwise = -1\n",
    "- Hay $label(\\mathbf{w^T x}) = sgn(\\mathbf{w^T x})$\n",
    "\n"
   ]
  },
  {
   "cell_type": "markdown",
   "id": "9541f450-07de-41f2-babb-3333bdecac41",
   "metadata": {},
   "source": [
    "## Hàm mất mát\n",
    "- Cần tối thiểu số điểm bị phân loại sai. Phân loại sai thì $y_i \\ne sgn(\\mathbf{w^T x_i})$. $\\Rightarrow$ Ta có hàm mất mát:\n",
    "      $$ \\mathbf{J(x)} = \\sum_{x_i \\in M} (-y_i sgn(\\mathbf{w^T x_i})) $$\n",
    "- Tuy nhiên $sgn()$ rời rạc không có đạo hàm. => cần xây dựng hàm mất mát khác là:\n",
    "      $$\\mathbf{J(x)} =  \\sum_{x_i \\in M} (-y_i \\mathbf{w^T x_i})$$\n",
    "  Khi phân loại sai thì $y_i$ và $\\mathbf{w^T x_i}$ khác dấu $\\Rightarrow$ $\\mathbf{x_i}$ càng cách xa đường phân loại và bị phân loại sai thì $-y_i \\mathbf{w^T x_i}$ càng lớn.\n"
   ]
  },
  {
   "cell_type": "markdown",
   "id": "5f40eb88-2d5a-4909-932c-52311b145bd0",
   "metadata": {},
   "source": [
    "## Tối ưu hàm mất mát\n",
    "- Sử dụng Stochastic Gradient descent\n",
    "- Đạo hàm hàm mất mát tại từng điểm dữ liệu:\n",
    "      $$ \\nabla_{\\mathbf{w}} J(\\mathbf{x}_i;y_i; \\mathbf{w}) = -y_i \\mathbf{x}_i$$\n",
    "- Công thức cập nhật cho $\\mathbf{w}$ theo stochastic gradient descent:\n",
    "      $$\\mathbf{w} = \\mathbf{w} + \\eta y_i \\mathbf{x}_i $$"
   ]
  },
  {
   "cell_type": "markdown",
   "id": "ab7056a4-a8ea-4c3b-8511-3d9754947260",
   "metadata": {
    "jp-MarkdownHeadingCollapsed": true
   },
   "source": [
    "## Tóm tắt thuật toán\n",
    "1. Chọn ngẫu nhiên $\\mathbf{w}$ với các hệ số gần 0\n",
    "2. Duyệt qua từng điểm dữ liệu:\n",
    "   - Nếu $\\mathbf{x_i}$ phân lớp đúng tức là $sgn(\\mathbf{x_i}) = y_i$ không cần làm gì\n",
    "   - Ngược lại cập nhât $\\mathbf{w}$ theo công thức $\\mathbf{w} = \\mathbf{w} + \\eta y_i \\mathbf{x_i}$\n",
    "3. Kiểm tra xem còn bao nhiêu điểm bị missclass. Nếu ko còn điểm nào thì dừng thuật toán. Nếu ko quay lại bước 2"
   ]
  },
  {
   "cell_type": "markdown",
   "id": "9ebd3172-176b-48d3-9f65-761e8a50241f",
   "metadata": {},
   "source": [
    "## Ví dụ bằng python"
   ]
  },
  {
   "cell_type": "code",
   "execution_count": 65,
   "id": "6ef2264b-a911-4db7-9f15-cd047ed34c6f",
   "metadata": {},
   "outputs": [
    {
     "name": "stdout",
     "output_type": "stream",
     "text": [
      "[[2.22096057 2.70132234 3.08493823 2.02701417 2.73223639 1.21171968\n",
      "  2.22920603 1.8637762  1.74682699 2.37191737 2.47403369 2.09281249\n",
      "  2.22222334 2.58438569 2.74493118 1.6355797  3.19217738 1.51075436\n",
      "  1.93784332 1.8787214  1.98435063 2.54694067 1.34122073 1.68360306\n",
      "  2.39495504 1.58503193 2.20448688 1.49739755 2.2036588  2.30754036\n",
      "  2.23924788 1.94688854 3.00981847 2.66070614 1.57343827 2.13824618\n",
      "  2.17589085 2.1950674  3.35017416 2.10713714 2.11200125 1.3085396\n",
      "  2.51153392 1.04405478 2.15254162 1.68244384 1.58334917 2.63624444\n",
      "  1.85831694 1.93727986]\n",
      " [6.19579728 7.43487375 6.70849736 5.47010441 6.32571583 6.23682627\n",
      "  5.72925457 5.59716548 6.27230351 6.37595358 6.4040742  5.65061706\n",
      "  6.11659863 6.05326933 6.67628604 6.63347726 7.2425902  6.11880111\n",
      "  5.56029947 6.12126884 6.32915756 7.32114999 5.19110126 5.70505616\n",
      "  6.43418025 5.41460218 6.17118254 6.06910612 6.43102051 5.47634363\n",
      "  6.1800686  6.0926817  7.03050457 6.01696944 5.9022653  6.51500409\n",
      "  6.20562564 6.90367155 7.3092753  5.19774325 6.07746801 5.86675739\n",
      "  5.89235835 5.58870979 6.30946373 5.93568992 6.21244285 7.10171506\n",
      "  5.76121109 4.88918865]]\n"
     ]
    }
   ],
   "source": [
    "import numpy as np \n",
    "import matplotlib.pyplot as plt\n",
    "\n",
    "plt.style.use('seaborn-v0_8-whitegrid')\n",
    "np.random.seed(2)\n",
    "\n",
    "means = [[2, 6], [4, 6]] # lưu giá trị trung bình\n",
    "cov = [[.3, .2], [.2, .3]]\n",
    "N = 50\n",
    "X0 = np.random.multivariate_normal(means[0], cov, N).T \n",
    "X1 = np.random.multivariate_normal(means[1], cov, N).T\n",
    "\n",
    "X = np.concatenate((X0, X1), axis = 1)\n",
    "y = np.concatenate((np.ones((1, N)), -1*np.ones((1, N))), axis = 1)\n",
    "\n",
    "# Xbar \n",
    "X = np.concatenate((np.ones((1, 2*N)), X), axis = 0)\n",
    "print(X0)"
   ]
  },
  {
   "cell_type": "code",
   "execution_count": 66,
   "id": "736096e4-1e77-473a-912b-7451356a270d",
   "metadata": {},
   "outputs": [],
   "source": [
    "def sgn(w, x):    \n",
    "    return np.sign(np.dot(w.T, x))\n",
    "\n",
    "def has_converged(X, y, w):    \n",
    "    return np.array_equal(sgn(w, X), y) \n",
    "\n",
    "def perceptron(X, y, w_init, learning_rate):\n",
    "    w = [w_init]\n",
    "    N = X.shape[1] # số điểm dữ liệu\n",
    "    d = X.shape[0] # chiều của 1 điểm dữ liệu\n",
    "    mis_points = []\n",
    "    while True:\n",
    "        mix_id = np.random.permutation(N) #Trộn dữ liệu => Thu được 1 tập các id bất kỳ\n",
    "        for i in range(N): \n",
    "            xi = X[:, mix_id[i]].reshape(d, 1) \n",
    "            yi = y[0, mix_id[i]]\n",
    "            if sgn(w[-1], xi)[0] != yi: # misclassified point\n",
    "                mis_points.append(mix_id[i]) \n",
    "                w_new = w[-1] + yi * xi * learning_rate \n",
    "                w.append(w_new)\n",
    "                \n",
    "        if has_converged(X, y, w[-1]):\n",
    "            break\n",
    "    return (w[-1], mis_points)\n",
    "\n"
   ]
  },
  {
   "cell_type": "code",
   "execution_count": 67,
   "id": "0b5e1627-d87e-435b-ac2c-ef12d4de7878",
   "metadata": {},
   "outputs": [
    {
     "data": {
      "text/plain": [
       "[<matplotlib.lines.Line2D at 0x21a8f0710d0>]"
      ]
     },
     "execution_count": 67,
     "metadata": {},
     "output_type": "execute_result"
    },
    {
     "data": {
      "image/png": "[encoded data removed]",
      "text/plain": [
       "<Figure size 800x800 with 1 Axes>"
      ]
     },
     "metadata": {},
     "output_type": "display_data"
    }
   ],
   "source": [
    "d = X.shape[0]\n",
    "w_init = np.random.randn(d, 1) # phân phối chuẩn với shape = (3, 1) mean = 0, var = 1\n",
    "(w, m) = perceptron(X, y, w_init, 0.5)\n",
    "\n",
    "# show data \n",
    "fig, ax = plt.subplots(figsize=(8,8))\n",
    "ax.scatter(X0[0], X0[1], color=\"blue\")\n",
    "ax.scatter(X1[0], X1[1], color=\"red\")\n",
    "## show line\n",
    "x1 = [1, 4]\n",
    "# w0 + w1*x1 + w2*x2 = 0 => x2 = -(w0 + w1*x1)/w2\n",
    "x2 = [-(w[0] + w[1] * x1[0] )/w[2], -(w[0] + w[1] * x1[1] )/w[2]]\n",
    "ax.plot(x1, x2)\n"
   ]
  },
  {
   "cell_type": "code",
   "execution_count": 1,
   "id": "62831de0-428b-457a-8798-7013bffbd645",
   "metadata": {},
   "outputs": [],
   "source": []
  }
 ],
 "metadata": {
  "kernelspec": {
   "display_name": "Python 3 (ipykernel)",
   "language": "python",
   "name": "python3"
  },
  "language_info": {
   "codemirror_mode": {
    "name": "ipython",
    "version": 3
   },
   "file_extension": ".py",
   "mimetype": "text/x-python",
   "name": "python",
   "nbconvert_exporter": "python",
   "pygments_lexer": "ipython3",
   "version": "3.11.7"
  }
 },
 "nbformat": 4,
 "nbformat_minor": 5
}
