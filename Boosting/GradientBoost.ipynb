{
 "cells": [
  {
   "cell_type": "markdown",
   "metadata": {},
   "source": [
    "# Gradient Boost"
   ]
  },
  {
   "cell_type": "markdown",
   "metadata": {},
   "source": [
    "## Thuật toán\n",
    "- Hàm loss tại 1 điểm:  $ L(y_i, F(x_i)) = (y_i - F(x_i))^2 $\n",
    "\n",
    "### Bước 1: Khởi tạo mô hình\n",
    "- Khởi tạo giá trị dự đoán $F_0(x) = \\arg \\min_{F(x)} \\sum_{i = 1}^N L(y_i, F(x)) =\\frac{1}{N} \\sum_{i = 1}^N y_i$\n",
    "\n",
    "### Bước 2: Xây dựng M mô hình: \n",
    "- Tính sai số huấn luyện cho mỗi điểm dữ liệu: \n",
    "$$ r_i^{(m)} = - \\frac{\\partial L(y_i, F_{m-1}(x_i))}{\\partial F_{m - 1}(x_i)} $$\n",
    "- Huấn luyện các mô hình yếu cho tập các điểm dữ liệu $(x_i, r_i^{(m)})$: Gọi mô hình là $h_m(x)$\n",
    "- Tính hệ số học tối ưu thỏa hàm loss đạt giá tri cực tiểu:\n",
    "$$\n",
    "\\gamma_m = \\arg\\min_{\\gamma} \\sum_{i=1}^{n} L(y_i, F_{m-1}(x_i) + \\gamma h_m(x_i))\n",
    "$$\n",
    "\n",
    "- Cập nhật giá trị: \n",
    "$$\n",
    "F_m(x) = F_{m-1}(x) + \\gamma_m h_m(x)\n",
    "$$\n",
    " \n",
    "\n"
   ]
  },
  {
   "cell_type": "code",
   "execution_count": 3,
   "metadata": {},
   "outputs": [],
   "source": [
    "import numpy as np\n",
    "import pandas as pd\n",
    "from sklearn.tree import DecisionTreeRegressor"
   ]
  },
  {
   "cell_type": "code",
   "execution_count": 4,
   "metadata": {},
   "outputs": [],
   "source": [
    "class GradientBoost():\n",
    "    def __init__(self, max_depth=8, min_samples_split=5, min_samples_leaf=5, max_features=3, lr=0.1, num_iter=50):\n",
    "        self.max_depth = max_depth\n",
    "        self.min_samples_split = min_samples_split\n",
    "        self.min_samples_leaf = min_samples_leaf\n",
    "        self.max_features = max_features\n",
    "        self.lr = lr\n",
    "        self.num_iter = num_iter\n",
    "        self.y_mean = 0\n",
    "        self.list_tree = []\n",
    "\n",
    "    def __calculate_loss(self,y, y_pred):\n",
    "        loss = (1/len(y)) * 0.5 * np.sum(np.square(y-y_pred))\n",
    "        return loss\n",
    "\n",
    "    def __take_gradient(self, y, y_pred):\n",
    "        # grad = -(y-y_pred) # cho dự đoán = pred - alpha * residual\n",
    "        grad = (y - y_pred)  # cho dự đoán = pred + alpha * residual\n",
    "        return grad\n",
    "\n",
    "    def __create_base_model(self, X, y):\n",
    "        base = DecisionTreeRegressor(max_depth=self.max_depth,\n",
    "                                    min_samples_split=self.min_samples_split,\n",
    "                                    min_samples_leaf=self.min_samples_leaf,\n",
    "                                    max_features=self.max_features)\n",
    "        base.fit(X,y)\n",
    "        return base\n",
    "\n",
    "    def predict(self,X):\n",
    "        pred_0 = np.array([self.y_mean] * len(X))\n",
    "        pred = pred_0.reshape(len(pred_0),1)\n",
    "\n",
    "        for i in range(len(self.list_tree)):\n",
    "            temp = (self.list_tree[i].predict(X)).reshape(len(X),1)\n",
    "            # pred -= self.lr * temp #cho dự đoán = pred - alpha * residual\n",
    "            pred += self.lr * temp #cho dự đoán = pred + alpha * residual\n",
    "\n",
    "        return pred\n",
    "\n",
    "    def fit(self, X, y):\n",
    "        losses = []\n",
    "        self.y_mean = np.mean(y)\n",
    "        pred_0 = np.array([np.mean(y)] * len(y))\n",
    "        pred = pred_0.reshape(len(pred_0),1)\n",
    "\n",
    "        for epoch in range(self.num_iter):\n",
    "            loss = self.__calculate_loss(y, pred)\n",
    "            # print(\"loss: epoch\", epoch, \"=\", loss)\n",
    "            losses.append(loss)\n",
    "            grads = self.__take_gradient(y, pred)\n",
    "            \n",
    "            base = self.__create_base_model(X, grads)\n",
    "            h_m = (base.predict(X)).reshape(len(X),1)\n",
    "            \n",
    "            pred += self.lr * h_m\n",
    "            self.list_tree.append(base)\n"
   ]
  },
  {
   "cell_type": "code",
   "execution_count": 12,
   "metadata": {},
   "outputs": [
    {
     "data": {
      "text/html": [
       "<div>\n",
       "<style scoped>\n",
       "    .dataframe tbody tr th:only-of-type {\n",
       "        vertical-align: middle;\n",
       "    }\n",
       "\n",
       "    .dataframe tbody tr th {\n",
       "        vertical-align: top;\n",
       "    }\n",
       "\n",
       "    .dataframe thead th {\n",
       "        text-align: right;\n",
       "    }\n",
       "</style>\n",
       "<table border=\"1\" class=\"dataframe\">\n",
       "  <thead>\n",
       "    <tr style=\"text-align: right;\">\n",
       "      <th></th>\n",
       "      <th>TV</th>\n",
       "      <th>Radio</th>\n",
       "      <th>Newspaper</th>\n",
       "      <th>Sales</th>\n",
       "    </tr>\n",
       "  </thead>\n",
       "  <tbody>\n",
       "    <tr>\n",
       "      <th>0</th>\n",
       "      <td>230.1</td>\n",
       "      <td>37.8</td>\n",
       "      <td>69.2</td>\n",
       "      <td>22.1</td>\n",
       "    </tr>\n",
       "    <tr>\n",
       "      <th>1</th>\n",
       "      <td>44.5</td>\n",
       "      <td>39.3</td>\n",
       "      <td>45.1</td>\n",
       "      <td>10.4</td>\n",
       "    </tr>\n",
       "    <tr>\n",
       "      <th>2</th>\n",
       "      <td>17.2</td>\n",
       "      <td>45.9</td>\n",
       "      <td>69.3</td>\n",
       "      <td>12.0</td>\n",
       "    </tr>\n",
       "    <tr>\n",
       "      <th>3</th>\n",
       "      <td>151.5</td>\n",
       "      <td>41.3</td>\n",
       "      <td>58.5</td>\n",
       "      <td>16.5</td>\n",
       "    </tr>\n",
       "    <tr>\n",
       "      <th>4</th>\n",
       "      <td>180.8</td>\n",
       "      <td>10.8</td>\n",
       "      <td>58.4</td>\n",
       "      <td>17.9</td>\n",
       "    </tr>\n",
       "  </tbody>\n",
       "</table>\n",
       "</div>"
      ],
      "text/plain": [
       "      TV  Radio  Newspaper  Sales\n",
       "0  230.1   37.8       69.2   22.1\n",
       "1   44.5   39.3       45.1   10.4\n",
       "2   17.2   45.9       69.3   12.0\n",
       "3  151.5   41.3       58.5   16.5\n",
       "4  180.8   10.8       58.4   17.9"
      ]
     },
     "execution_count": 12,
     "metadata": {},
     "output_type": "execute_result"
    }
   ],
   "source": [
    "\n",
    "from sklearn.preprocessing import StandardScaler\n",
    "from sklearn.model_selection import train_test_split\n",
    "from sklearn.metrics import mean_squared_error\n",
    "from sklearn.metrics import r2_score\n",
    "\n",
    "#READ DATA\n",
    "data = pd.read_csv(\"advertising.csv\")\n",
    "data.fillna(0,inplace=True)\n",
    "\n",
    "data.head()"
   ]
  },
  {
   "cell_type": "code",
   "execution_count": null,
   "metadata": {},
   "outputs": [],
   "source": [
    "X = data.iloc[:,:-1].values\n",
    "y = data.iloc[:,-1].values\n",
    "X_train, X_test, y_train, y_test = train_test_split(X, y, test_size=0.30, random_state=100)\n",
    "\n",
    "scaler = StandardScaler()\n",
    "X_train = scaler.fit_transform(X_train)\n",
    "X_test = scaler.fit_transform(X_test)\n",
    "y_train = np.array(y_train).reshape(X_train.shape[0],1)\n",
    "y_test = np.array(y_test).reshape(X_test.shape[0],1)\n",
    "\n",
    "G = GradientBoost()\n",
    "G.fit(X_train,y_train)"
   ]
  },
  {
   "cell_type": "code",
   "execution_count": 13,
   "metadata": {},
   "outputs": [
    {
     "name": "stdout",
     "output_type": "stream",
     "text": [
      "3.3110071248738846\n"
     ]
    },
    {
     "data": {
      "text/plain": [
       "0.8935842037894236"
      ]
     },
     "execution_count": 13,
     "metadata": {},
     "output_type": "execute_result"
    }
   ],
   "source": [
    "pred = G.predict(X_test)\n",
    "print(mean_squared_error(pred, y_test))\n",
    "r2_score(pred, y_test)"
   ]
  },
  {
   "cell_type": "code",
   "execution_count": 14,
   "metadata": {},
   "outputs": [
    {
     "name": "stdout",
     "output_type": "stream",
     "text": [
      "3.310103704436709\n"
     ]
    },
    {
     "name": "stderr",
     "output_type": "stream",
     "text": [
      "d:\\ancocda3\\Lib\\site-packages\\sklearn\\ensemble\\_gb.py:437: DataConversionWarning: A column-vector y was passed when a 1d array was expected. Please change the shape of y to (n_samples, ), for example using ravel().\n",
      "  y = column_or_1d(y, warn=True)\n"
     ]
    },
    {
     "data": {
      "text/plain": [
       "0.8936078533697203"
      ]
     },
     "execution_count": 14,
     "metadata": {},
     "output_type": "execute_result"
    }
   ],
   "source": [
    "from sklearn.ensemble import GradientBoostingRegressor\n",
    "GB = GradientBoostingRegressor(max_depth=8, min_samples_split=5, min_samples_leaf=5, max_features=3, learning_rate=0.1, n_estimators=50)\n",
    "GB.fit(X_train, y_train)\n",
    "pred = GB.predict(X_test)\n",
    "print(mean_squared_error(pred, y_test))\n",
    "r2_score(pred, y_test)"
   ]
  },
  {
   "cell_type": "code",
   "execution_count": null,
   "metadata": {},
   "outputs": [],
   "source": []
  }
 ],
 "metadata": {
  "kernelspec": {
   "display_name": "base",
   "language": "python",
   "name": "python3"
  },
  "language_info": {
   "codemirror_mode": {
    "name": "ipython",
    "version": 3
   },
   "file_extension": ".py",
   "mimetype": "text/x-python",
   "name": "python",
   "nbconvert_exporter": "python",
   "pygments_lexer": "ipython3",
   "version": "3.11.7"
  }
 },
 "nbformat": 4,
 "nbformat_minor": 2
}
