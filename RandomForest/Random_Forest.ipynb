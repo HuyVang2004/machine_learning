{
 "cells": [
  {
   "cell_type": "markdown",
   "metadata": {},
   "source": [
    "### Bagging (Bootstrap Aggregating)\n",
    "Bagging là một kỹ thuật học máy giúp cải thiện độ chính xác và độ ổn định của các mô hình học máy bằng cách kết hợp nhiều mô hình (cùng loại). Kỹ thuật này hữu ích trong việc giảm thiểu hiện tượng overfitting và giảm phương sai của mô hình.\n",
    "\n",
    "#### Cách thức hoạt động của Bagging:\n",
    "1. **Tạo các bộ dữ liệu con**: Tạo ra các bộ dữ liệu con có dữ liệu bằng dữ liệu gốc, dữ liệu có thể trùng lặp. Quá trình này được gọi là **bootstrap sampling**.\n",
    "\n",
    "2. **Huấn luyện các mô hình**: Với mỗi bộ dữ liệu con, chúng ta huấn luyện một mô hình giống nhau.\n",
    "\n",
    "3. **Kết hợp các mô hình**: Đối với bài toán phân loại, kết quả đầu ra của các mô hình được kết hợp thông qua phương pháp majority voting (lấy kết quả được dự đoán nhiều nhất từ các mô hình con). Đối với bài toán hồi quy, kết quả được tính bằng cách trung bình đầu ra của các mô hình.\n",
    "\n",
    "### Random Forest\n",
    "Random Forest là một biến thể của Bagging áp dụng cụ thể cho các cây quyết định. Nó cải thiện thêm một bước so với Bagging bằng cách giới thiệu thêm một yếu tố ngẫu nhiên khi xây dựng các cây quyết định.\n",
    "\n",
    "#### Cách thức hoạt động của Random Forest:\n",
    "1. **Tạo các bộ dữ liệu con**: Random Forest sử dụng bootstrap sampling để tạo ra các bộ dữ liệu con từ bộ dữ liệu gốc.\n",
    "\n",
    "2. **Tạo cây quyết định ngẫu nhiên**:\n",
    "   - Tại mỗi nút phân tách trong cây, thay vì xem xét toàn bộ các đặc trưng (features), Random Forest chỉ chọn ngẫu nhiên một tập con các đặc trưng để tìm ra đặc trưng tốt nhất để phân tách. Điều này làm giảm sự tương quan giữa các cây và cải thiện độ chính xác của mô hình.\n",
    "   - Các cây quyết định được xây dựng với độ sâu tối đa có thể (hoặc theo một tiêu chí dừng nhất định).\n",
    "\n",
    "3. **Kết hợp các cây quyết định**: Kết quả cuối cùng được tính bằng cách kết hợp các kết quả của từng cây trong rừng:\n",
    "   - Với bài toán phân loại: Sử dụng majority voting.\n",
    "   - Với bài toán hồi quy: Tính trung bình các dự đoán của các cây.\n",
    "\n",
    "### Ưu điểm của Random Forest:\n",
    "- **Giảm phương sai**: Nhờ việc kết hợp nhiều cây quyết định, Random Forest có khả năng giảm thiểu phương sai của mô hình.\n",
    "- **Chống overfitting**: Do các cây quyết định trong Random Forest được xây dựng từ các tập con khác nhau của dữ liệu và chỉ sử dụng một phần đặc trưng tại mỗi nút, mô hình ít bị overfitting hơn so với việc sử dụng một cây quyết định duy nhất.\n",
    "- **Hiệu quả với dữ liệu lớn**: Random Forest có thể xử lý dữ liệu với số lượng đặc trưng và mẫu lớn.\n",
    "\n",
    "### Hạn chế:\n",
    "- **Khó giải thích**: Do mô hình Random Forest bao gồm nhiều cây quyết định, nó khó giải thích hơn một cây quyết định đơn lẻ.\n",
    "- **Thời gian**: Việc huấn luyện và dự đoán với Random Forest thường tốn nhiều thời gian hơn so với các mô hình đơn giản hơn, đặc biệt với số lượng cây lớn.\n",
    "\n"
   ]
  },
  {
   "cell_type": "code",
   "execution_count": 1,
   "metadata": {},
   "outputs": [],
   "source": [
    "import numpy as np\n",
    "import pandas as pd\n",
    "\n",
    "from sklearn.model_selection import train_test_split\n",
    "from sklearn.tree import DecisionTreeClassifier\n",
    "import matplotlib.pyplot as plt\n",
    "from collections import Counter"
   ]
  },
  {
   "cell_type": "code",
   "execution_count": 2,
   "metadata": {},
   "outputs": [],
   "source": [
    "class RandomForestClassification:\n",
    "    def __init__(self, max_depth = 10, min_node_size = 1, max_leaf_node=15, min_gain=1e-4, min_samples_split=3, num_iter = 100):\n",
    "        self.max_depth = max_depth\n",
    "        self.min_node_size = min_node_size\n",
    "        self.max_leaf_node = max_leaf_node\n",
    "        self.min_gain = min_gain\n",
    "        self.min_samples_split = min_samples_split\n",
    "        self.trees = []\n",
    "        self.num_iter = num_iter\n",
    "    \n",
    "    def _sample(self, X, y):\n",
    "        n_rows, _ = X.shape\n",
    "        samples = np.random.choice(a=n_rows, size=n_rows, replace=True)\n",
    "        return X.iloc[samples], y[samples]\n",
    "\n",
    "    def fit(self, X, y):\n",
    "        if isinstance(X, pd.DataFrame): X = X.reset_index(drop=True)\n",
    "        if isinstance(y, pd.Series): y = y.values\n",
    "        for i in range(self.num_iter):\n",
    "            X_resampled, y_resampled = self._sample(X, y)\n",
    "            \n",
    "            tree = DecisionTreeClassifier(\n",
    "                max_depth=self.max_depth,\n",
    "                min_samples_split= self.min_samples_split,\n",
    "            )\n",
    "            tree.fit(X_resampled, y_resampled)\n",
    "            self.trees.append(tree)\n",
    "    \n",
    "    def predict(self, X_test):\n",
    "        tree_predictions = np.array([tree.predict(X_test) for tree in self.trees])\n",
    "        return np.array([Counter(predictions).most_common(1)[0][0] for predictions in tree_predictions.T])\n",
    "\n",
    "        \n",
    "        "
   ]
  },
  {
   "cell_type": "code",
   "execution_count": 3,
   "metadata": {},
   "outputs": [
    {
     "data": {
      "text/html": [
       "<div>\n",
       "<style scoped>\n",
       "    .dataframe tbody tr th:only-of-type {\n",
       "        vertical-align: middle;\n",
       "    }\n",
       "\n",
       "    .dataframe tbody tr th {\n",
       "        vertical-align: top;\n",
       "    }\n",
       "\n",
       "    .dataframe thead th {\n",
       "        text-align: right;\n",
       "    }\n",
       "</style>\n",
       "<table border=\"1\" class=\"dataframe\">\n",
       "  <thead>\n",
       "    <tr style=\"text-align: right;\">\n",
       "      <th></th>\n",
       "      <th>vhigh</th>\n",
       "      <th>vhigh.1</th>\n",
       "      <th>2</th>\n",
       "      <th>2.1</th>\n",
       "      <th>small</th>\n",
       "      <th>low</th>\n",
       "      <th>unacc</th>\n",
       "    </tr>\n",
       "  </thead>\n",
       "  <tbody>\n",
       "    <tr>\n",
       "      <th>0</th>\n",
       "      <td>vhigh</td>\n",
       "      <td>vhigh</td>\n",
       "      <td>2</td>\n",
       "      <td>2</td>\n",
       "      <td>small</td>\n",
       "      <td>med</td>\n",
       "      <td>unacc</td>\n",
       "    </tr>\n",
       "    <tr>\n",
       "      <th>1</th>\n",
       "      <td>vhigh</td>\n",
       "      <td>vhigh</td>\n",
       "      <td>2</td>\n",
       "      <td>2</td>\n",
       "      <td>small</td>\n",
       "      <td>high</td>\n",
       "      <td>unacc</td>\n",
       "    </tr>\n",
       "    <tr>\n",
       "      <th>2</th>\n",
       "      <td>vhigh</td>\n",
       "      <td>vhigh</td>\n",
       "      <td>2</td>\n",
       "      <td>2</td>\n",
       "      <td>med</td>\n",
       "      <td>low</td>\n",
       "      <td>unacc</td>\n",
       "    </tr>\n",
       "    <tr>\n",
       "      <th>3</th>\n",
       "      <td>vhigh</td>\n",
       "      <td>vhigh</td>\n",
       "      <td>2</td>\n",
       "      <td>2</td>\n",
       "      <td>med</td>\n",
       "      <td>med</td>\n",
       "      <td>unacc</td>\n",
       "    </tr>\n",
       "    <tr>\n",
       "      <th>4</th>\n",
       "      <td>vhigh</td>\n",
       "      <td>vhigh</td>\n",
       "      <td>2</td>\n",
       "      <td>2</td>\n",
       "      <td>med</td>\n",
       "      <td>high</td>\n",
       "      <td>unacc</td>\n",
       "    </tr>\n",
       "  </tbody>\n",
       "</table>\n",
       "</div>"
      ],
      "text/plain": [
       "   vhigh vhigh.1  2 2.1  small   low  unacc\n",
       "0  vhigh   vhigh  2   2  small   med  unacc\n",
       "1  vhigh   vhigh  2   2  small  high  unacc\n",
       "2  vhigh   vhigh  2   2    med   low  unacc\n",
       "3  vhigh   vhigh  2   2    med   med  unacc\n",
       "4  vhigh   vhigh  2   2    med  high  unacc"
      ]
     },
     "execution_count": 3,
     "metadata": {},
     "output_type": "execute_result"
    }
   ],
   "source": [
    "data = pd.read_csv('car_evaluation.csv')\n",
    "data.head()"
   ]
  },
  {
   "cell_type": "code",
   "execution_count": 4,
   "metadata": {},
   "outputs": [
    {
     "data": {
      "text/plain": [
       "(array([1209.,    0.,    0.,  384.,    0.,    0.,   65.,    0.,    0.,\n",
       "          69.]),\n",
       " array([0. , 0.3, 0.6, 0.9, 1.2, 1.5, 1.8, 2.1, 2.4, 2.7, 3. ]),\n",
       " <BarContainer object of 10 artists>)"
      ]
     },
     "execution_count": 4,
     "metadata": {},
     "output_type": "execute_result"
    },
    {
     "data": {
      "image/png": "[encoded data removed]",
      "text/plain": [
       "<Figure size 640x480 with 1 Axes>"
      ]
     },
     "metadata": {},
     "output_type": "display_data"
    }
   ],
   "source": [
    "plt.hist(data.iloc[:,-1])"
   ]
  },
  {
   "cell_type": "code",
   "execution_count": 5,
   "metadata": {},
   "outputs": [
    {
     "data": {
      "text/html": [
       "<div>\n",
       "<style scoped>\n",
       "    .dataframe tbody tr th:only-of-type {\n",
       "        vertical-align: middle;\n",
       "    }\n",
       "\n",
       "    .dataframe tbody tr th {\n",
       "        vertical-align: top;\n",
       "    }\n",
       "\n",
       "    .dataframe thead th {\n",
       "        text-align: right;\n",
       "    }\n",
       "</style>\n",
       "<table border=\"1\" class=\"dataframe\">\n",
       "  <thead>\n",
       "    <tr style=\"text-align: right;\">\n",
       "      <th></th>\n",
       "      <th>acc</th>\n",
       "      <th>good</th>\n",
       "      <th>unacc</th>\n",
       "      <th>vgood</th>\n",
       "    </tr>\n",
       "  </thead>\n",
       "  <tbody>\n",
       "    <tr>\n",
       "      <th>0</th>\n",
       "      <td>False</td>\n",
       "      <td>False</td>\n",
       "      <td>True</td>\n",
       "      <td>False</td>\n",
       "    </tr>\n",
       "    <tr>\n",
       "      <th>1</th>\n",
       "      <td>False</td>\n",
       "      <td>False</td>\n",
       "      <td>True</td>\n",
       "      <td>False</td>\n",
       "    </tr>\n",
       "    <tr>\n",
       "      <th>2</th>\n",
       "      <td>False</td>\n",
       "      <td>False</td>\n",
       "      <td>True</td>\n",
       "      <td>False</td>\n",
       "    </tr>\n",
       "    <tr>\n",
       "      <th>3</th>\n",
       "      <td>False</td>\n",
       "      <td>False</td>\n",
       "      <td>True</td>\n",
       "      <td>False</td>\n",
       "    </tr>\n",
       "    <tr>\n",
       "      <th>4</th>\n",
       "      <td>False</td>\n",
       "      <td>False</td>\n",
       "      <td>True</td>\n",
       "      <td>False</td>\n",
       "    </tr>\n",
       "    <tr>\n",
       "      <th>...</th>\n",
       "      <td>...</td>\n",
       "      <td>...</td>\n",
       "      <td>...</td>\n",
       "      <td>...</td>\n",
       "    </tr>\n",
       "    <tr>\n",
       "      <th>1722</th>\n",
       "      <td>False</td>\n",
       "      <td>True</td>\n",
       "      <td>False</td>\n",
       "      <td>False</td>\n",
       "    </tr>\n",
       "    <tr>\n",
       "      <th>1723</th>\n",
       "      <td>False</td>\n",
       "      <td>False</td>\n",
       "      <td>False</td>\n",
       "      <td>True</td>\n",
       "    </tr>\n",
       "    <tr>\n",
       "      <th>1724</th>\n",
       "      <td>False</td>\n",
       "      <td>False</td>\n",
       "      <td>True</td>\n",
       "      <td>False</td>\n",
       "    </tr>\n",
       "    <tr>\n",
       "      <th>1725</th>\n",
       "      <td>False</td>\n",
       "      <td>True</td>\n",
       "      <td>False</td>\n",
       "      <td>False</td>\n",
       "    </tr>\n",
       "    <tr>\n",
       "      <th>1726</th>\n",
       "      <td>False</td>\n",
       "      <td>False</td>\n",
       "      <td>False</td>\n",
       "      <td>True</td>\n",
       "    </tr>\n",
       "  </tbody>\n",
       "</table>\n",
       "<p>1727 rows × 4 columns</p>\n",
       "</div>"
      ],
      "text/plain": [
       "        acc   good  unacc  vgood\n",
       "0     False  False   True  False\n",
       "1     False  False   True  False\n",
       "2     False  False   True  False\n",
       "3     False  False   True  False\n",
       "4     False  False   True  False\n",
       "...     ...    ...    ...    ...\n",
       "1722  False   True  False  False\n",
       "1723  False  False  False   True\n",
       "1724  False  False   True  False\n",
       "1725  False   True  False  False\n",
       "1726  False  False  False   True\n",
       "\n",
       "[1727 rows x 4 columns]"
      ]
     },
     "execution_count": 5,
     "metadata": {},
     "output_type": "execute_result"
    }
   ],
   "source": [
    "pd.get_dummies(data.iloc[:,-1])"
   ]
  },
  {
   "cell_type": "code",
   "execution_count": 6,
   "metadata": {},
   "outputs": [],
   "source": [
    "from sklearn.model_selection import  train_test_split\n",
    "from sklearn.metrics import accuracy_score\n",
    "X = pd.get_dummies(data.iloc[:,:-1])\n",
    "\n",
    "y = data.iloc[:, -1]\n",
    "X_train, X_test, y_train, y_test = train_test_split(X, y, test_size=0.3)"
   ]
  },
  {
   "cell_type": "code",
   "execution_count": 9,
   "metadata": {},
   "outputs": [
    {
     "name": "stdout",
     "output_type": "stream",
     "text": [
      "accuracy test: 0.9730250481695568\n",
      "accuracy train: 0.9966887417218543\n"
     ]
    }
   ],
   "source": [
    "rf_build = RandomForestClassification()\n",
    "rf_build.fit(X_train, y_train)\n",
    "pred = rf_build.predict(X_test)\n",
    "print(f'accuracy test: {accuracy_score(pred, y_test)}')\n",
    "pred_train = rf_build.predict(X_train)\n",
    "print(f'accuracy train: {accuracy_score(pred_train, y_train)}')"
   ]
  },
  {
   "cell_type": "markdown",
   "metadata": {},
   "source": [
    "### Sử dụng thư viện"
   ]
  },
  {
   "cell_type": "code",
   "execution_count": 10,
   "metadata": {},
   "outputs": [
    {
     "name": "stdout",
     "output_type": "stream",
     "text": [
      "accuracy test: 0.9595375722543352\n",
      "accuracy train: 1.0\n"
     ]
    }
   ],
   "source": [
    "from sklearn.ensemble import RandomForestClassifier\n",
    "\n",
    "rf_sklearn = RandomForestClassifier()\n",
    "rf_sklearn.fit(X_train, y_train)\n",
    "pred = rf_sklearn.predict(X_test)\n",
    "print(f'accuracy test: {accuracy_score(pred, y_test)}')\n",
    "pred_train = rf_sklearn.predict(X_train)\n",
    "print(f'accuracy train: {accuracy_score(pred_train, y_train)}')"
   ]
  },
  {
   "cell_type": "code",
   "execution_count": 39,
   "metadata": {},
   "outputs": [
    {
     "name": "stdout",
     "output_type": "stream",
     "text": [
      "acc\n",
      "good\n",
      "unacc\n",
      "vgood\n"
     ]
    }
   ],
   "source": [
    "for x in X_test[:]:\n",
    "    print(x)"
   ]
  },
  {
   "cell_type": "code",
   "execution_count": 48,
   "metadata": {},
   "outputs": [
    {
     "name": "stdout",
     "output_type": "stream",
     "text": [
      "vhigh_high\n",
      "vhigh_low\n",
      "vhigh_med\n",
      "vhigh_vhigh\n",
      "vhigh.1_high\n",
      "vhigh.1_low\n",
      "vhigh.1_med\n",
      "vhigh.1_vhigh\n",
      "2_2\n",
      "2_3\n",
      "2_4\n",
      "2_5more\n",
      "2.1_2\n",
      "2.1_4\n",
      "2.1_more\n",
      "small_big\n",
      "small_med\n",
      "small_small\n",
      "low_high\n",
      "low_low\n",
      "low_med\n"
     ]
    }
   ],
   "source": [
    "for x in X.:\n",
    "    print(x)"
   ]
  },
  {
   "cell_type": "code",
   "execution_count": null,
   "metadata": {},
   "outputs": [],
   "source": [
    "X.loc"
   ]
  }
 ],
 "metadata": {
  "kernelspec": {
   "display_name": "base",
   "language": "python",
   "name": "python3"
  },
  "language_info": {
   "codemirror_mode": {
    "name": "ipython",
    "version": 3
   },
   "file_extension": ".py",
   "mimetype": "text/x-python",
   "name": "python",
   "nbconvert_exporter": "python",
   "pygments_lexer": "ipython3",
   "version": "3.11.7"
  }
 },
 "nbformat": 4,
 "nbformat_minor": 2
}
